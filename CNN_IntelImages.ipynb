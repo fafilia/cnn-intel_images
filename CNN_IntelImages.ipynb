{
 "cells": [
  {
   "cell_type": "markdown",
   "metadata": {},
   "source": [
    "# Intel Image Classification Using Convolutional Neural Network (CNN)"
   ]
  },
  {
   "cell_type": "markdown",
   "metadata": {},
   "source": [
    "## Overview"
   ]
  },
  {
   "cell_type": "markdown",
   "metadata": {},
   "source": [
    "This time, I will do image classification using Convolutional Neural Network (CNN). CNN is very familiar algorithm to classify an image according to the class of the image. CNN consists of neurons that have same weight, bias and activation functions as Multilayer Perceptron (NN in general), but we will get to know a new term called convolution layer. The dataset I used was an Intel Image Classification dataset that I got from [Kaggle](https://www.kaggle.com/puneet6060/intel-image-classification). This dataset is a landscape image data worldwide. The dataset consists of 25000 images measuring 150x150 pixels and it divided into 6 classes, as follows:\n",
    "- 0 : Buildings\n",
    "- 1 : Forest\n",
    "- 2 : Glacier\n",
    "- 3 : Mountain\n",
    "- 4 : Sea\n",
    "- 5 : Street"
   ]
  },
  {
   "cell_type": "markdown",
   "metadata": {},
   "source": [
    "## Packages"
   ]
  },
  {
   "cell_type": "markdown",
   "metadata": {},
   "source": [
    "To be able to do classification using neural networks, here we need several packages from Python. Besides pandas and numpy, another important packages are Keras and scikit-learn which will help us build NN architecture and do classification calculations."
   ]
  },
  {
   "cell_type": "code",
   "execution_count": 1,
   "metadata": {},
   "outputs": [
    {
     "name": "stderr",
     "output_type": "stream",
     "text": [
      "Using TensorFlow backend.\n"
     ]
    }
   ],
   "source": [
    "import os\n",
    "import pandas as pd\n",
    "import numpy as np\n",
    "import matplotlib.pyplot as plt\n",
    "from keras.preprocessing.image import ImageDataGenerator, load_img\n",
    "from sklearn.model_selection import train_test_split\n",
    "from sklearn.metrics import accuracy_score\n",
    "from sklearn.metrics import confusion_matrix\n",
    "from keras.models import Sequential\n",
    "from keras.layers import Dense, Dropout, Flatten\n",
    "from keras.layers import Conv2D, MaxPool2D"
   ]
  },
  {
   "cell_type": "markdown",
   "metadata": {},
   "source": [
    "## Data Preparation"
   ]
  },
  {
   "cell_type": "markdown",
   "metadata": {},
   "source": [
    "The goal of data preparation is to prepare data that tidy and ready to be applied in NN models. The data preparation stage is divided into 3, i.e:\n",
    "- Data Transformation\n",
    "- Data Augmentation\n",
    "- Data Generator"
   ]
  },
  {
   "cell_type": "markdown",
   "metadata": {},
   "source": [
    "### Data Transformation"
   ]
  },
  {
   "cell_type": "markdown",
   "metadata": {},
   "source": [
    "In the initial stages of data preparation, I will transform image data into a multidimensional matrix. This matrix will read and convert images into a matrix with pixel length, pixel width, and color channel sizes. Here, we will read a dataset consisting of data train, data validation, and data test / prediction."
   ]
  },
  {
   "cell_type": "code",
   "execution_count": 2,
   "metadata": {},
   "outputs": [],
   "source": [
    "seg_train = 'seg_train/'\n",
    "seg_test = 'seg_test/'\n",
    "seg_pred = 'seg_pred/'"
   ]
  },
  {
   "cell_type": "markdown",
   "metadata": {},
   "source": [
    "### Data Augmentation"
   ]
  },
  {
   "cell_type": "markdown",
   "metadata": {},
   "source": [
    "After data transformation, the next step is performs data augmentation. Image data augmentation is used to expand the training dataset in order to improve the performance and ability of the model to generalize. When we work with image data there are cases where we've lack training dataset. Augmentation techniques can create variations of the images that can improve the ability of the fit models to generalize what they have learned to new images. A convolutional neural network that can robustly classify objects even if its placed in different orientations is said to have the property called invariance. More specifically, a CNN can be invariant to translation, viewpoint, size or illumination (Or a combination of the above)."
   ]
  },
  {
   "cell_type": "code",
   "execution_count": 3,
   "metadata": {},
   "outputs": [],
   "source": [
    "generate = ImageDataGenerator(rescale = 1./255,\n",
    "                                   shear_range = 0.2,\n",
    "                                   zoom_range = 0.2,\n",
    "                                   horizontal_flip = True)"
   ]
  },
  {
   "cell_type": "markdown",
   "metadata": {},
   "source": [
    "### Data Generator"
   ]
  },
  {
   "cell_type": "markdown",
   "metadata": {},
   "source": [
    "In the previous process, we actually didn't add data to the dataset we have. Keras ImageDataGenerator class actually works by:\n",
    "- Accepting a batch of images used for training\n",
    "- Taking this batch and applying a series of random transformations to each image in the batch (including random rotation, resizing, shearing, etc.)\n",
    "- Replacing the original batch with the new, randomly transformed batch\n",
    "- Training the CNN on this randomly transformed batch (i.e., the original data itself is not used for training)"
   ]
  },
  {
   "cell_type": "code",
   "execution_count": 4,
   "metadata": {
    "scrolled": true
   },
   "outputs": [
    {
     "name": "stdout",
     "output_type": "stream",
     "text": [
      "Found 14034 images belonging to 6 classes.\n",
      "Found 3000 images belonging to 6 classes.\n"
     ]
    }
   ],
   "source": [
    "training_set = generate.flow_from_directory(seg_train,\n",
    "                                            target_size = (100, 100),\n",
    "                                            batch_size = 14034,\n",
    "                                            classes = [\"buildings\",\"forest\",\"glacier\",\"mountain\",\"sea\",\"street\"],\n",
    "                                            class_mode = 'categorical')\n",
    "test_set = generate.flow_from_directory(seg_test,\n",
    "                                        target_size = (100, 100),\n",
    "                                        batch_size = 3000,\n",
    "                                        classes = [\"buildings\",\"forest\",\"glacier\",\"mountain\",\"sea\",\"street\"],\n",
    "                                        class_mode = 'categorical')"
   ]
  },
  {
   "cell_type": "markdown",
   "metadata": {},
   "source": [
    "## Splitting Data Train and Data Test"
   ]
  },
  {
   "cell_type": "markdown",
   "metadata": {},
   "source": [
    "Splitting dataset here aims to select training data and test data that will be used for the training process and the model evaluation process. The next() function here returns the next item in an iterator."
   ]
  },
  {
   "cell_type": "code",
   "execution_count": 44,
   "metadata": {},
   "outputs": [],
   "source": [
    "X_train,y_train = training_set.next()\n",
    "X_test,y_test = test_set.next()"
   ]
  },
  {
   "cell_type": "markdown",
   "metadata": {},
   "source": [
    "## Architecture Model"
   ]
  },
  {
   "cell_type": "markdown",
   "metadata": {},
   "source": [
    "Mainly our model architecture consist 4 different layers:\n",
    "- convolutional layers\n",
    "- pooling layers (for downsampling features)\n",
    "- dense layers (for output classifier)\n",
    "- dropout (prevent model overfitting)"
   ]
  },
  {
   "cell_type": "markdown",
   "metadata": {},
   "source": [
    "### Build Model"
   ]
  },
  {
   "cell_type": "markdown",
   "metadata": {},
   "source": [
    "The architecture can be seen in the picture below:\n",
    "   \n",
    " ![](assets/model.png)"
   ]
  },
  {
   "cell_type": "code",
   "execution_count": 45,
   "metadata": {},
   "outputs": [],
   "source": [
    "model = Sequential()\n",
    "model.add(Conv2D(32,(3,3), input_shape=(100,100,3), activation='relu'))\n",
    "model.add(MaxPool2D(pool_size=(2,2),strides=None))\n",
    "model.add(Conv2D(64,(3,3), activation='relu' , padding= \"same\"))\n",
    "model.add(MaxPool2D(pool_size=(2,2),strides=None))\n",
    "model.add(Conv2D(64,(3,3), activation='relu' , padding= \"same\"))\n",
    "model.add(MaxPool2D(pool_size=(2,2),strides=None))\n",
    "model.add(Conv2D(128,(3,3), activation='relu' , padding= \"same\"))\n",
    "model.add(MaxPool2D(pool_size=(2,2),strides=None))\n",
    "model.add(Conv2D(128,(3,3), activation='relu' , padding= \"same\"))\n",
    "model.add(MaxPool2D(pool_size=(2,2),strides=None))\n",
    "\n",
    "model.add(Flatten())\n",
    "model.add(Dense(512, activation='relu'))\n",
    "model.add(Dropout(0.50))\n",
    "\n",
    "model.add(Dense(6,activation ='softmax'))"
   ]
  },
  {
   "cell_type": "markdown",
   "metadata": {},
   "source": [
    "### Model Compiler"
   ]
  },
  {
   "cell_type": "markdown",
   "metadata": {},
   "source": [
    "Next, we choose our model lost function and optimzer in order to do backpropagation. We use categorical crossentropy as cost function because our domain problem is multiclass classification and we use adam optimizer."
   ]
  },
  {
   "cell_type": "code",
   "execution_count": 46,
   "metadata": {},
   "outputs": [],
   "source": [
    "model.compile(optimizer=\"adam\", loss= \"categorical_crossentropy\", metrics=[\"accuracy\"])"
   ]
  },
  {
   "cell_type": "code",
   "execution_count": 47,
   "metadata": {
    "scrolled": false
   },
   "outputs": [
    {
     "name": "stdout",
     "output_type": "stream",
     "text": [
      "_________________________________________________________________\n",
      "Layer (type)                 Output Shape              Param #   \n",
      "=================================================================\n",
      "conv2d_34 (Conv2D)           (None, 98, 98, 32)        896       \n",
      "_________________________________________________________________\n",
      "max_pooling2d_34 (MaxPooling (None, 49, 49, 32)        0         \n",
      "_________________________________________________________________\n",
      "conv2d_35 (Conv2D)           (None, 49, 49, 64)        18496     \n",
      "_________________________________________________________________\n",
      "max_pooling2d_35 (MaxPooling (None, 24, 24, 64)        0         \n",
      "_________________________________________________________________\n",
      "conv2d_36 (Conv2D)           (None, 24, 24, 64)        36928     \n",
      "_________________________________________________________________\n",
      "max_pooling2d_36 (MaxPooling (None, 12, 12, 64)        0         \n",
      "_________________________________________________________________\n",
      "conv2d_37 (Conv2D)           (None, 12, 12, 128)       73856     \n",
      "_________________________________________________________________\n",
      "max_pooling2d_37 (MaxPooling (None, 6, 6, 128)         0         \n",
      "_________________________________________________________________\n",
      "conv2d_38 (Conv2D)           (None, 6, 6, 128)         147584    \n",
      "_________________________________________________________________\n",
      "max_pooling2d_38 (MaxPooling (None, 3, 3, 128)         0         \n",
      "_________________________________________________________________\n",
      "flatten_6 (Flatten)          (None, 1152)              0         \n",
      "_________________________________________________________________\n",
      "dense_11 (Dense)             (None, 512)               590336    \n",
      "_________________________________________________________________\n",
      "dropout_6 (Dropout)          (None, 512)               0         \n",
      "_________________________________________________________________\n",
      "dense_12 (Dense)             (None, 6)                 3078      \n",
      "=================================================================\n",
      "Total params: 871,174\n",
      "Trainable params: 871,174\n",
      "Non-trainable params: 0\n",
      "_________________________________________________________________\n"
     ]
    }
   ],
   "source": [
    "model.summary()"
   ]
  },
  {
   "cell_type": "markdown",
   "metadata": {},
   "source": [
    "### Phase of Training Data"
   ]
  },
  {
   "cell_type": "markdown",
   "metadata": {},
   "source": [
    "After building the CNN model, in the previous stage we have selected some data to be trained using the CNN model. In this phase, the CNN model is trained to recognize each input image with 15 epoches (repeated 15 times)."
   ]
  },
  {
   "cell_type": "code",
   "execution_count": 48,
   "metadata": {
    "scrolled": false
   },
   "outputs": [
    {
     "name": "stdout",
     "output_type": "stream",
     "text": [
      "Train on 12630 samples, validate on 1404 samples\n",
      "Epoch 1/15\n",
      "12630/12630 [==============================] - 220s 17ms/step - loss: 1.4603 - acc: 0.4033 - val_loss: 1.0828 - val_acc: 0.5812\n",
      "Epoch 2/15\n",
      "12630/12630 [==============================] - 217s 17ms/step - loss: 1.0804 - acc: 0.5744 - val_loss: 0.9560 - val_acc: 0.6175\n",
      "Epoch 3/15\n",
      "12630/12630 [==============================] - 225s 18ms/step - loss: 0.9671 - acc: 0.6107 - val_loss: 0.8954 - val_acc: 0.6531\n",
      "Epoch 4/15\n",
      "12630/12630 [==============================] - 216s 17ms/step - loss: 0.8697 - acc: 0.6613 - val_loss: 0.7733 - val_acc: 0.7094\n",
      "Epoch 5/15\n",
      "12630/12630 [==============================] - 215s 17ms/step - loss: 0.7922 - acc: 0.7032 - val_loss: 0.7275 - val_acc: 0.7279\n",
      "Epoch 6/15\n",
      "12630/12630 [==============================] - 491s 39ms/step - loss: 0.7969 - acc: 0.6983 - val_loss: 0.7193 - val_acc: 0.7372\n",
      "Epoch 7/15\n",
      "12630/12630 [==============================] - 281s 22ms/step - loss: 0.7050 - acc: 0.7343 - val_loss: 0.7463 - val_acc: 0.7244\n",
      "Epoch 8/15\n",
      "12630/12630 [==============================] - 296s 23ms/step - loss: 0.6799 - acc: 0.7470 - val_loss: 0.6950 - val_acc: 0.7436\n",
      "Epoch 9/15\n",
      "12630/12630 [==============================] - 315s 25ms/step - loss: 0.6458 - acc: 0.7634 - val_loss: 0.6739 - val_acc: 0.7493\n",
      "Epoch 10/15\n",
      "12630/12630 [==============================] - 319s 25ms/step - loss: 0.5821 - acc: 0.7888 - val_loss: 0.6051 - val_acc: 0.7885\n",
      "Epoch 11/15\n",
      "12630/12630 [==============================] - 246s 19ms/step - loss: 0.5505 - acc: 0.7994 - val_loss: 0.5690 - val_acc: 0.8027\n",
      "Epoch 12/15\n",
      "12630/12630 [==============================] - 233s 18ms/step - loss: 0.5368 - acc: 0.8046 - val_loss: 0.5550 - val_acc: 0.8027\n",
      "Epoch 13/15\n",
      "12630/12630 [==============================] - 226s 18ms/step - loss: 0.4770 - acc: 0.8269 - val_loss: 0.8118 - val_acc: 0.7080\n",
      "Epoch 14/15\n",
      "12630/12630 [==============================] - 230s 18ms/step - loss: 0.5785 - acc: 0.7951 - val_loss: 0.5435 - val_acc: 0.8105\n",
      "Epoch 15/15\n",
      "12630/12630 [==============================] - 232s 18ms/step - loss: 0.4588 - acc: 0.8363 - val_loss: 0.5224 - val_acc: 0.8162\n"
     ]
    }
   ],
   "source": [
    "Model = model.fit(X_train, y_train, epochs = 15, verbose=1, batch_size=500, validation_split = 0.1)"
   ]
  },
  {
   "cell_type": "markdown",
   "metadata": {},
   "source": [
    "In the train phase, the model produces an accuracy of around 83.63% with a loss of around 0.458. These results indicate that accuracy is quite good but the value of loss is still fairly large."
   ]
  },
  {
   "cell_type": "markdown",
   "metadata": {},
   "source": [
    "### Model Evaluation"
   ]
  },
  {
   "cell_type": "markdown",
   "metadata": {},
   "source": [
    "At this stage we try to evaluate the CNN model with new data. Pre-selected test data is used to test how the CNN model classifies intel images according to their respective classes."
   ]
  },
  {
   "cell_type": "code",
   "execution_count": 49,
   "metadata": {},
   "outputs": [
    {
     "name": "stdout",
     "output_type": "stream",
     "text": [
      "3000/3000 [==============================] - 19s 6ms/step\n",
      "Test loss: 0.5052887751261393\n",
      "Test accuracy: 0.8210000001589457\n"
     ]
    }
   ],
   "source": [
    "score = model.evaluate(X_test, y_test, verbose=1)\n",
    "print('Test loss:', score[0])\n",
    "print('Test accuracy:', score[1])"
   ]
  },
  {
   "cell_type": "markdown",
   "metadata": {},
   "source": [
    "After evaluating the model with 3000 test data, the accuracy is 82.1%, the value is below the accuracy results in the training phase with a loss value of 0.505 where this value is greater than the results in the training phase. From these results we can conclude that there are differences that are not far enough, that means our model is not indicated by overfitting. To see the results of the evaluation more clearly, you can see the model evaluation chart in the next section."
   ]
  },
  {
   "cell_type": "markdown",
   "metadata": {},
   "source": [
    "### Evaluation Plot"
   ]
  },
  {
   "cell_type": "code",
   "execution_count": 53,
   "metadata": {},
   "outputs": [
    {
     "data": {
      "image/png": "[encoded data removed]",
      "text/plain": [
       "<Figure size 432x288 with 1 Axes>"
      ]
     },
     "metadata": {
      "needs_background": "light"
     },
     "output_type": "display_data"
    }
   ],
   "source": [
    "plt.plot(Model.history['acc'])\n",
    "plt.plot(Model.history['val_acc'])\n",
    "plt.title('Model Accuracy')\n",
    "plt.ylabel('Accuracy')\n",
    "plt.xlabel('Epoch')\n",
    "plt.legend(['Training set', 'Validation set'], loc='upper left')\n",
    "plt.show()"
   ]
  },
  {
   "cell_type": "code",
   "execution_count": 54,
   "metadata": {
    "scrolled": true
   },
   "outputs": [
    {
     "data": {
      "image/png": "[encoded data removed]",
      "text/plain": [
       "<Figure size 432x288 with 1 Axes>"
      ]
     },
     "metadata": {
      "needs_background": "light"
     },
     "output_type": "display_data"
    }
   ],
   "source": [
    "plt.plot(Model.history['val_loss'])\n",
    "plt.plot(Model.history['loss'])\n",
    "plt.title('Model Loss')\n",
    "plt.ylabel('Loss')\n",
    "plt.xlabel('Epoch')\n",
    "plt.legend(['Training set', 'Test set'], loc='upper left')\n",
    "plt.show()"
   ]
  },
  {
   "cell_type": "markdown",
   "metadata": {},
   "source": [
    "### Save the Model"
   ]
  },
  {
   "cell_type": "code",
   "execution_count": 50,
   "metadata": {},
   "outputs": [],
   "source": [
    "model.save(\"model.h5\")"
   ]
  },
  {
   "cell_type": "code",
   "execution_count": 51,
   "metadata": {},
   "outputs": [],
   "source": [
    "from keras.models import load_model"
   ]
  },
  {
   "cell_type": "code",
   "execution_count": 52,
   "metadata": {},
   "outputs": [
    {
     "name": "stdout",
     "output_type": "stream",
     "text": [
      "_________________________________________________________________\n",
      "Layer (type)                 Output Shape              Param #   \n",
      "=================================================================\n",
      "conv2d_34 (Conv2D)           (None, 98, 98, 32)        896       \n",
      "_________________________________________________________________\n",
      "max_pooling2d_34 (MaxPooling (None, 49, 49, 32)        0         \n",
      "_________________________________________________________________\n",
      "conv2d_35 (Conv2D)           (None, 49, 49, 64)        18496     \n",
      "_________________________________________________________________\n",
      "max_pooling2d_35 (MaxPooling (None, 24, 24, 64)        0         \n",
      "_________________________________________________________________\n",
      "conv2d_36 (Conv2D)           (None, 24, 24, 64)        36928     \n",
      "_________________________________________________________________\n",
      "max_pooling2d_36 (MaxPooling (None, 12, 12, 64)        0         \n",
      "_________________________________________________________________\n",
      "conv2d_37 (Conv2D)           (None, 12, 12, 128)       73856     \n",
      "_________________________________________________________________\n",
      "max_pooling2d_37 (MaxPooling (None, 6, 6, 128)         0         \n",
      "_________________________________________________________________\n",
      "conv2d_38 (Conv2D)           (None, 6, 6, 128)         147584    \n",
      "_________________________________________________________________\n",
      "max_pooling2d_38 (MaxPooling (None, 3, 3, 128)         0         \n",
      "_________________________________________________________________\n",
      "flatten_6 (Flatten)          (None, 1152)              0         \n",
      "_________________________________________________________________\n",
      "dense_11 (Dense)             (None, 512)               590336    \n",
      "_________________________________________________________________\n",
      "dropout_6 (Dropout)          (None, 512)               0         \n",
      "_________________________________________________________________\n",
      "dense_12 (Dense)             (None, 6)                 3078      \n",
      "=================================================================\n",
      "Total params: 871,174\n",
      "Trainable params: 871,174\n",
      "Non-trainable params: 0\n",
      "_________________________________________________________________\n"
     ]
    }
   ],
   "source": [
    "model = load_model('model.h5')\n",
    "model.summary()"
   ]
  },
  {
   "cell_type": "markdown",
   "metadata": {},
   "source": [
    "## Annotation"
   ]
  },
  {
   "cell_type": "markdown",
   "metadata": {},
   "source": [
    "- https://www.pyimagesearch.com/2019/07/08/keras-imagedatagenerator-and-data-augmentation/\n",
    "- https://www.kaggle.com/puneet6060/intel-image-classification\n",
    "- https://www.kaggle.com/ramadiansyah/cnn-with-r"
   ]
  }
 ],
 "metadata": {
  "kernelspec": {
   "display_name": "Python 3",
   "language": "python",
   "name": "python3"
  },
  "language_info": {
   "codemirror_mode": {
    "name": "ipython",
    "version": 3
   },
   "file_extension": ".py",
   "mimetype": "text/x-python",
   "name": "python",
   "nbconvert_exporter": "python",
   "pygments_lexer": "ipython3",
   "version": "3.6.9"
  },
  "toc": {
   "base_numbering": 1,
   "nav_menu": {},
   "number_sections": true,
   "sideBar": true,
   "skip_h1_title": true,
   "title_cell": "Table of Contents",
   "title_sidebar": "Contents",
   "toc_cell": false,
   "toc_position": {},
   "toc_section_display": true,
   "toc_window_display": true
  }
 },
 "nbformat": 4,
 "nbformat_minor": 2
}
